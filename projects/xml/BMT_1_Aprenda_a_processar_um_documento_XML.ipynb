{
  "nbformat": 4,
  "nbformat_minor": 0,
  "metadata": {
    "colab": {
      "name": "BMT 1 - Aprenda a processar um documento XML.ipynb",
      "provenance": [],
      "collapsed_sections": []
    },
    "kernelspec": {
      "name": "python3",
      "display_name": "Python 3"
    },
    "language_info": {
      "name": "python"
    }
  },
  "cells": [
    {
      "cell_type": "markdown",
      "source": [
        "# Aprenda a processar um documento XML\n",
        "Muitos dos documentos que encontramos com informações hoje em dia são XML.\n",
        "\n",
        "Processá-los exige algum documento específico que você terá que construir para participar nesse curso.\n",
        "\n",
        "Para provar que aprendeu XML você deve fazer uma pequena atividade.\n",
        "\n",
        "1. Baixe a nossa Base Oficial de Trabalho (CysticFibrosis2)\n",
        "2. Escolha dois processadores de XML diferentes em Python, A e B (DOM, SAX ou outro)\n",
        "3. Use um processador A para obter o nome de todos os AUTHOR citados no arquivo cf79.xml, salve 1 por linha no arquivo autores.xml\n",
        "4. Use um processador B para obter o nome de todos os TITLE citados no arquivo cf79.xml, salve 1 por linha no arquivo titulo.xml"
      ],
      "metadata": {
        "id": "FUKBMl0ef_Wi"
      }
    },
    {
      "cell_type": "code",
      "source": [
        "from google.colab import drive\n",
        "drive.mount('/content/gdrive')\n",
        "\n",
        "#Considering that data file is in your Google Drive\n",
        "xml_file_path = '/content/gdrive/My Drive/datasets/CysticFibrosis2-20220410/cf79.xml'"
      ],
      "metadata": {
        "colab": {
          "base_uri": "https://localhost:8080/"
        },
        "id": "a0c_B2g4GliM",
        "outputId": "c403749e-23a5-430a-be3a-2c4a7942cef7"
      },
      "execution_count": 3,
      "outputs": [
        {
          "output_type": "stream",
          "name": "stdout",
          "text": [
            "Mounted at /content/gdrive\n"
          ]
        }
      ]
    },
    {
      "cell_type": "markdown",
      "source": [
        "# Pegar AUTHOR usando ElementTree DOM\n",
        "\n",
        "Manipulações com DOM são práticas e mais simples. No entanto, não funcionam bem se o documento XML for muito grande, porque o DOM é carregado na memória RAM."
      ],
      "metadata": {
        "id": "0u85c97jL7V9"
      }
    },
    {
      "cell_type": "code",
      "source": [
        "import xml.etree.ElementTree as ET\n",
        "\n",
        "tree = ET.parse(xml_file_path)\n",
        "root = tree.getroot()"
      ],
      "metadata": {
        "id": "2kv_TJQPGi7U"
      },
      "execution_count": 11,
      "outputs": []
    },
    {
      "cell_type": "code",
      "source": [
        "authors_root = ET.Element(\"AUTHORS\")\n",
        "\n",
        "for author in root.iter('AUTHOR'):\n",
        "  ET.SubElement(authors_root, \"AUTHOR\").text = author.text\n",
        "\n",
        "authors_tree = ET.ElementTree(authors_root)\n",
        "authors_tree.write(\"autores.xml\", xml_declaration=True)"
      ],
      "metadata": {
        "id": "vDFTpvaZHKHh"
      },
      "execution_count": 12,
      "outputs": []
    },
    {
      "cell_type": "markdown",
      "source": [
        "# Pegar TITLE com SAX\n",
        "\n",
        "Parsing utilizando SAX são mais verbosos que com DOM. No entanto, são mais recomendados para grandes arquivos XML, uma vez que não salvam a árvore inteira na memória, tratando o arquivo de forma iterativa em streams de dados."
      ],
      "metadata": {
        "id": "FW4xL8gDR6i7"
      }
    },
    {
      "cell_type": "code",
      "source": [
        "from xml.sax import parse\n",
        "from xml.sax.handler import ContentHandler\n",
        "\n",
        "class TitleHandler(ContentHandler):\n",
        "    def __init__(self, titles_root):\n",
        "        super().__init__()\n",
        "        self.titles_root = titles_root\n",
        "        self.current_tag = \"\"\n",
        "        self.current_content = \"\"\n",
        "    \n",
        "    def startElement(self, tag, attrs):\n",
        "      self.current_tag = tag\n",
        "\n",
        "    def endElement(self, tag):\n",
        "      if self.current_tag == \"TITLE\":\n",
        "        ET.SubElement(self.titles_root, \"TITLE\").text = self.current_content\n",
        "      self.current_tag = \"\"\n",
        "      self.current_content = \"\"\n",
        "\n",
        "    def characters(self, content):\n",
        "      self.current_content += content\n",
        "\n",
        "titles_root = ET.Element(\"TITLES\")\n",
        "parse(xml_file_path, TitleHandler(titles_root))\n",
        "\n",
        "titles_tree = ET.ElementTree(titles_root)\n",
        "titles_tree.write(\"titulo.xml\", xml_declaration=True)"
      ],
      "metadata": {
        "id": "_lcEezSiIOOo"
      },
      "execution_count": 18,
      "outputs": []
    }
  ]
}
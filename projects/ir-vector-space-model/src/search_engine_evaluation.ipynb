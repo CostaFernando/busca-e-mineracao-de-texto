{
 "cells": [
  {
   "cell_type": "code",
   "execution_count": 1,
   "metadata": {},
   "outputs": [],
   "source": [
    "import pandas as pd\n",
    "import numpy as np\n",
    "import matplotlib.pyplot as plt"
   ]
  },
  {
   "cell_type": "code",
   "execution_count": 112,
   "metadata": {},
   "outputs": [
    {
     "data": {
      "text/html": [
       "<div>\n",
       "<style scoped>\n",
       "    .dataframe tbody tr th:only-of-type {\n",
       "        vertical-align: middle;\n",
       "    }\n",
       "\n",
       "    .dataframe tbody tr th {\n",
       "        vertical-align: top;\n",
       "    }\n",
       "\n",
       "    .dataframe thead th {\n",
       "        text-align: right;\n",
       "    }\n",
       "</style>\n",
       "<table border=\"1\" class=\"dataframe\">\n",
       "  <thead>\n",
       "    <tr style=\"text-align: right;\">\n",
       "      <th></th>\n",
       "      <th>DocNumber</th>\n",
       "      <th>DocVotes</th>\n",
       "    </tr>\n",
       "    <tr>\n",
       "      <th>QueryNumber</th>\n",
       "      <th></th>\n",
       "      <th></th>\n",
       "    </tr>\n",
       "  </thead>\n",
       "  <tbody>\n",
       "    <tr>\n",
       "      <th>1</th>\n",
       "      <td>139</td>\n",
       "      <td>7</td>\n",
       "    </tr>\n",
       "    <tr>\n",
       "      <th>1</th>\n",
       "      <td>151</td>\n",
       "      <td>6</td>\n",
       "    </tr>\n",
       "    <tr>\n",
       "      <th>1</th>\n",
       "      <td>166</td>\n",
       "      <td>1</td>\n",
       "    </tr>\n",
       "    <tr>\n",
       "      <th>1</th>\n",
       "      <td>311</td>\n",
       "      <td>1</td>\n",
       "    </tr>\n",
       "    <tr>\n",
       "      <th>1</th>\n",
       "      <td>370</td>\n",
       "      <td>2</td>\n",
       "    </tr>\n",
       "    <tr>\n",
       "      <th>...</th>\n",
       "      <td>...</td>\n",
       "      <td>...</td>\n",
       "    </tr>\n",
       "    <tr>\n",
       "      <th>100</th>\n",
       "      <td>1000</td>\n",
       "      <td>6</td>\n",
       "    </tr>\n",
       "    <tr>\n",
       "      <th>100</th>\n",
       "      <td>1017</td>\n",
       "      <td>7</td>\n",
       "    </tr>\n",
       "    <tr>\n",
       "      <th>100</th>\n",
       "      <td>1033</td>\n",
       "      <td>1</td>\n",
       "    </tr>\n",
       "    <tr>\n",
       "      <th>100</th>\n",
       "      <td>1097</td>\n",
       "      <td>2</td>\n",
       "    </tr>\n",
       "    <tr>\n",
       "      <th>100</th>\n",
       "      <td>1232</td>\n",
       "      <td>2</td>\n",
       "    </tr>\n",
       "  </tbody>\n",
       "</table>\n",
       "<p>4820 rows × 2 columns</p>\n",
       "</div>"
      ],
      "text/plain": [
       "             DocNumber  DocVotes\n",
       "QueryNumber                     \n",
       "1                  139         7\n",
       "1                  151         6\n",
       "1                  166         1\n",
       "1                  311         1\n",
       "1                  370         2\n",
       "...                ...       ...\n",
       "100               1000         6\n",
       "100               1017         7\n",
       "100               1033         1\n",
       "100               1097         2\n",
       "100               1232         2\n",
       "\n",
       "[4820 rows x 2 columns]"
      ]
     },
     "execution_count": 112,
     "metadata": {},
     "output_type": "execute_result"
    }
   ],
   "source": [
    "expected_queries_results_file = \"../results/expected_queries_results.csv\"\n",
    "queries_results_file = \"../results/resultados.csv\"\n",
    "evaluations_dir = \"../avalia/\"\n",
    "df_expected_queries_results = pd.read_csv(expected_queries_results_file, sep=';', index_col=0)\n",
    "df_queries_results = pd.read_csv(queries_results_file, sep=';', index_col=0)\n",
    "\n",
    "df_expected_queries_results"
   ]
  },
  {
   "cell_type": "code",
   "execution_count": 113,
   "metadata": {},
   "outputs": [
    {
     "data": {
      "text/html": [
       "<div>\n",
       "<style scoped>\n",
       "    .dataframe tbody tr th:only-of-type {\n",
       "        vertical-align: middle;\n",
       "    }\n",
       "\n",
       "    .dataframe tbody tr th {\n",
       "        vertical-align: top;\n",
       "    }\n",
       "\n",
       "    .dataframe thead th {\n",
       "        text-align: right;\n",
       "    }\n",
       "</style>\n",
       "<table border=\"1\" class=\"dataframe\">\n",
       "  <thead>\n",
       "    <tr style=\"text-align: right;\">\n",
       "      <th></th>\n",
       "      <th>Results</th>\n",
       "    </tr>\n",
       "    <tr>\n",
       "      <th>QueryNumber</th>\n",
       "      <th></th>\n",
       "    </tr>\n",
       "  </thead>\n",
       "  <tbody>\n",
       "    <tr>\n",
       "      <th>1</th>\n",
       "      <td>[0, '00856', 0.35953811542195285]</td>\n",
       "    </tr>\n",
       "    <tr>\n",
       "      <th>1</th>\n",
       "      <td>[1, '00437', 0.3223062819205764]</td>\n",
       "    </tr>\n",
       "    <tr>\n",
       "      <th>1</th>\n",
       "      <td>[2, '00568', 0.31372398019421605]</td>\n",
       "    </tr>\n",
       "    <tr>\n",
       "      <th>1</th>\n",
       "      <td>[3, '00552', 0.3010918947924283]</td>\n",
       "    </tr>\n",
       "    <tr>\n",
       "      <th>1</th>\n",
       "      <td>[4, '00498', 0.29890869590426095]</td>\n",
       "    </tr>\n",
       "    <tr>\n",
       "      <th>...</th>\n",
       "      <td>...</td>\n",
       "    </tr>\n",
       "    <tr>\n",
       "      <th>100</th>\n",
       "      <td>[1210, '00974', 0.042130484149356495]</td>\n",
       "    </tr>\n",
       "    <tr>\n",
       "      <th>100</th>\n",
       "      <td>[1211, '01097', 0.039381426884307465]</td>\n",
       "    </tr>\n",
       "    <tr>\n",
       "      <th>100</th>\n",
       "      <td>[1212, '00558', 0.03767397976373646]</td>\n",
       "    </tr>\n",
       "    <tr>\n",
       "      <th>100</th>\n",
       "      <td>[1213, '00948', 0.03601305531770845]</td>\n",
       "    </tr>\n",
       "    <tr>\n",
       "      <th>100</th>\n",
       "      <td>[1214, '01018', 0.021028864053510718]</td>\n",
       "    </tr>\n",
       "  </tbody>\n",
       "</table>\n",
       "<p>118694 rows × 1 columns</p>\n",
       "</div>"
      ],
      "text/plain": [
       "                                           Results\n",
       "QueryNumber                                       \n",
       "1                [0, '00856', 0.35953811542195285]\n",
       "1                 [1, '00437', 0.3223062819205764]\n",
       "1                [2, '00568', 0.31372398019421605]\n",
       "1                 [3, '00552', 0.3010918947924283]\n",
       "1                [4, '00498', 0.29890869590426095]\n",
       "...                                            ...\n",
       "100          [1210, '00974', 0.042130484149356495]\n",
       "100          [1211, '01097', 0.039381426884307465]\n",
       "100           [1212, '00558', 0.03767397976373646]\n",
       "100           [1213, '00948', 0.03601305531770845]\n",
       "100          [1214, '01018', 0.021028864053510718]\n",
       "\n",
       "[118694 rows x 1 columns]"
      ]
     },
     "execution_count": 113,
     "metadata": {},
     "output_type": "execute_result"
    }
   ],
   "source": [
    "df_queries_results"
   ]
  },
  {
   "cell_type": "code",
   "execution_count": 114,
   "metadata": {},
   "outputs": [
    {
     "data": {
      "text/html": [
       "<div>\n",
       "<style scoped>\n",
       "    .dataframe tbody tr th:only-of-type {\n",
       "        vertical-align: middle;\n",
       "    }\n",
       "\n",
       "    .dataframe tbody tr th {\n",
       "        vertical-align: top;\n",
       "    }\n",
       "\n",
       "    .dataframe thead th {\n",
       "        text-align: right;\n",
       "    }\n",
       "</style>\n",
       "<table border=\"1\" class=\"dataframe\">\n",
       "  <thead>\n",
       "    <tr style=\"text-align: right;\">\n",
       "      <th></th>\n",
       "      <th>Results</th>\n",
       "      <th>DocNumber</th>\n",
       "    </tr>\n",
       "    <tr>\n",
       "      <th>QueryNumber</th>\n",
       "      <th></th>\n",
       "      <th></th>\n",
       "    </tr>\n",
       "  </thead>\n",
       "  <tbody>\n",
       "    <tr>\n",
       "      <th>1</th>\n",
       "      <td>[0, '00856', 0.35953811542195285]</td>\n",
       "      <td>856</td>\n",
       "    </tr>\n",
       "    <tr>\n",
       "      <th>1</th>\n",
       "      <td>[1, '00437', 0.3223062819205764]</td>\n",
       "      <td>437</td>\n",
       "    </tr>\n",
       "    <tr>\n",
       "      <th>1</th>\n",
       "      <td>[2, '00568', 0.31372398019421605]</td>\n",
       "      <td>568</td>\n",
       "    </tr>\n",
       "    <tr>\n",
       "      <th>1</th>\n",
       "      <td>[3, '00552', 0.3010918947924283]</td>\n",
       "      <td>552</td>\n",
       "    </tr>\n",
       "    <tr>\n",
       "      <th>1</th>\n",
       "      <td>[4, '00498', 0.29890869590426095]</td>\n",
       "      <td>498</td>\n",
       "    </tr>\n",
       "    <tr>\n",
       "      <th>...</th>\n",
       "      <td>...</td>\n",
       "      <td>...</td>\n",
       "    </tr>\n",
       "    <tr>\n",
       "      <th>100</th>\n",
       "      <td>[1210, '00974', 0.042130484149356495]</td>\n",
       "      <td>974</td>\n",
       "    </tr>\n",
       "    <tr>\n",
       "      <th>100</th>\n",
       "      <td>[1211, '01097', 0.039381426884307465]</td>\n",
       "      <td>1097</td>\n",
       "    </tr>\n",
       "    <tr>\n",
       "      <th>100</th>\n",
       "      <td>[1212, '00558', 0.03767397976373646]</td>\n",
       "      <td>558</td>\n",
       "    </tr>\n",
       "    <tr>\n",
       "      <th>100</th>\n",
       "      <td>[1213, '00948', 0.03601305531770845]</td>\n",
       "      <td>948</td>\n",
       "    </tr>\n",
       "    <tr>\n",
       "      <th>100</th>\n",
       "      <td>[1214, '01018', 0.021028864053510718]</td>\n",
       "      <td>1018</td>\n",
       "    </tr>\n",
       "  </tbody>\n",
       "</table>\n",
       "<p>118694 rows × 2 columns</p>\n",
       "</div>"
      ],
      "text/plain": [
       "                                           Results  DocNumber\n",
       "QueryNumber                                                  \n",
       "1                [0, '00856', 0.35953811542195285]        856\n",
       "1                 [1, '00437', 0.3223062819205764]        437\n",
       "1                [2, '00568', 0.31372398019421605]        568\n",
       "1                 [3, '00552', 0.3010918947924283]        552\n",
       "1                [4, '00498', 0.29890869590426095]        498\n",
       "...                                            ...        ...\n",
       "100          [1210, '00974', 0.042130484149356495]        974\n",
       "100          [1211, '01097', 0.039381426884307465]       1097\n",
       "100           [1212, '00558', 0.03767397976373646]        558\n",
       "100           [1213, '00948', 0.03601305531770845]        948\n",
       "100          [1214, '01018', 0.021028864053510718]       1018\n",
       "\n",
       "[118694 rows x 2 columns]"
      ]
     },
     "execution_count": 114,
     "metadata": {},
     "output_type": "execute_result"
    }
   ],
   "source": [
    "def get_doc_number_from_result(result):\n",
    "  result_list = result.strip(\"[]\").replace(\"'\", \"\").split(\", \")\n",
    "  doc_number = int(result_list[1])\n",
    "  \n",
    "  return doc_number\n",
    "\n",
    "df_queries_results[\"DocNumber\"] = df_queries_results[\"Results\"].apply(get_doc_number_from_result)\n",
    "\n",
    "df_queries_results"
   ]
  },
  {
   "cell_type": "code",
   "execution_count": 115,
   "metadata": {},
   "outputs": [
    {
     "name": "stdout",
     "output_type": "stream",
     "text": [
      "Expected results len: 99\n",
      "Results len: 99\n"
     ]
    }
   ],
   "source": [
    "expected_results_per_query = df_expected_queries_results.groupby(\"QueryNumber\").apply(lambda x: x.values.tolist()).tolist()\n",
    "results_per_query = df_queries_results.groupby(\"QueryNumber\")[\"DocNumber\"].apply(lambda x: x.tolist()).tolist()\n",
    "\n",
    "print(f\"Expected results len: {len(expected_results_per_query)}\")\n",
    "print(f\"Results len: {len(results_per_query)}\")"
   ]
  },
  {
   "cell_type": "markdown",
   "metadata": {},
   "source": [
    "### Precision x Recall"
   ]
  },
  {
   "cell_type": "code",
   "execution_count": 116,
   "metadata": {},
   "outputs": [
    {
     "data": {
      "image/png": "[encoded data removed]",
      "text/plain": [
       "<Figure size 432x288 with 1 Axes>"
      ]
     },
     "metadata": {
      "needs_background": "light"
     },
     "output_type": "display_data"
    }
   ],
   "source": [
    "number_of_points = 11\n",
    "mean_precisions = []\n",
    "mean_recalls = []\n",
    "\n",
    "for query_index in range(len(results_per_query)):\n",
    "  query_relevant_documents = [result[0] for result in expected_results_per_query[query_index]]\n",
    "  query_results = results_per_query[query_index]\n",
    "\n",
    "  query_precisions = []\n",
    "  query_recalls = []\n",
    "\n",
    "  incremental_results_index = int(len(query_results)/number_of_points)\n",
    "\n",
    "  for i in range(number_of_points):\n",
    "    results_ranking = query_results[:(i+1)*incremental_results_index]\n",
    "\n",
    "    tp = len(list(set(query_relevant_documents).intersection(results_ranking)))\n",
    "    \n",
    "    query_precisions.append(tp/len(results_ranking))\n",
    "    query_recalls.append(tp/len(query_relevant_documents))\n",
    "\n",
    "  mean_precisions.append(query_precisions)\n",
    "  mean_recalls.append(query_recalls)\n",
    "\n",
    "mean_precisions = np.mean(np.array(mean_precisions), axis=0)\n",
    "mean_recalls = np.mean(np.array(mean_recalls), axis=0)\n",
    "\n",
    "precision_recall_df = pd.DataFrame(np.array([mean_precisions, mean_recalls]).T, columns=[\"Precision\", \"Recall\"])\n",
    "precision_recall_df.to_csv(evaluations_dir + \"11pontos-stemmer-1.csv\", sep=\";\", index=False)\n",
    "\n",
    "plt.scatter(mean_recalls, mean_precisions)\n",
    "plt.title(\"Mean Precision x Mean Recall\")\n",
    "plt.xlabel('Recall')\n",
    "plt.ylabel('Precision')\n",
    "plt.show()\n"
   ]
  },
  {
   "cell_type": "markdown",
   "metadata": {},
   "source": [
    "### F1"
   ]
  },
  {
   "cell_type": "code",
   "execution_count": 117,
   "metadata": {},
   "outputs": [
    {
     "name": "stdout",
     "output_type": "stream",
     "text": [
      "F1: 7.6%\n"
     ]
    }
   ],
   "source": [
    "mean_precisions = []\n",
    "mean_recalls = []\n",
    "\n",
    "for query_index in range(len(results_per_query)):\n",
    "  query_relevant_documents = [result[0] for result in expected_results_per_query[query_index]]\n",
    "  query_results = results_per_query[query_index]\n",
    "\n",
    "  results_ranking = query_results\n",
    "  tp = len(list(set(query_relevant_documents).intersection(results_ranking)))\n",
    "  \n",
    "  query_precision = tp/len(results_ranking)\n",
    "  query_recall = tp/len(query_relevant_documents)\n",
    "\n",
    "  mean_precisions.append(query_precision)\n",
    "  mean_recalls.append(query_recall)\n",
    "\n",
    "mean_precisions = np.mean(np.array(mean_precisions))\n",
    "mean_recalls = np.mean(np.array(mean_recalls))\n",
    "\n",
    "F1 = (2 * mean_precisions * mean_recalls)/(mean_precisions + mean_recalls)\n",
    "\n",
    "print(f\"F1: {round(F1*100, 2)}%\")\n"
   ]
  },
  {
   "cell_type": "markdown",
   "metadata": {},
   "source": [
    "### Precision @ k"
   ]
  },
  {
   "cell_type": "code",
   "execution_count": 118,
   "metadata": {},
   "outputs": [
    {
     "name": "stdout",
     "output_type": "stream",
     "text": [
      "Mean Precision@5: 41.01%\n",
      "Mean Precision@10: 32.32%\n"
     ]
    }
   ],
   "source": [
    "def mean_precision_at_k(k, results_per_query, expected_results_per_query):\n",
    "  mean_precisions = []\n",
    "\n",
    "  for query_index in range(len(results_per_query)):\n",
    "    query_relevant_documents = [result[0] for result in expected_results_per_query[query_index]]\n",
    "    query_results = results_per_query[query_index]\n",
    "\n",
    "    results_ranking = query_results[:k]\n",
    "    tp = len(list(set(query_relevant_documents).intersection(results_ranking)))\n",
    "    \n",
    "    query_precision = tp/len(results_ranking)\n",
    "\n",
    "    mean_precisions.append(query_precision)\n",
    "\n",
    "  mean_precisions = np.mean(np.array(mean_precisions))\n",
    "\n",
    "  return mean_precisions\n",
    "\n",
    "mean_precision_at_5 = mean_precision_at_k(5, results_per_query, expected_results_per_query)\n",
    "mean_precision_at_10 = mean_precision_at_k(10, results_per_query, expected_results_per_query)\n",
    "\n",
    "print(f\"Mean Precision@5: {round(mean_precision_at_5 * 100, 2)}%\")\n",
    "print(f\"Mean Precision@10: {round(mean_precision_at_10 * 100, 2)}%\")"
   ]
  },
  {
   "cell_type": "markdown",
   "metadata": {},
   "source": [
    "### R-Precision"
   ]
  },
  {
   "cell_type": "code",
   "execution_count": 119,
   "metadata": {},
   "outputs": [
    {
     "data": {
      "image/png": "[encoded data removed]",
      "text/plain": [
       "<Figure size 432x288 with 1 Axes>"
      ]
     },
     "metadata": {
      "needs_background": "light"
     },
     "output_type": "display_data"
    }
   ],
   "source": [
    "def r_precisions(results_per_query, expected_results_per_query):\n",
    "  r_precisions = []\n",
    "\n",
    "  for query_index in range(len(results_per_query)):\n",
    "    query_relevant_documents = [result[0] for result in expected_results_per_query[query_index]]\n",
    "    query_results = results_per_query[query_index]\n",
    "\n",
    "    #Similar to precision@k. But in R-Precision k is the total relevant documents for the query.\n",
    "    k = len(query_relevant_documents)\n",
    "    results_ranking = query_results[:k]\n",
    "    tp = len(list(set(query_relevant_documents).intersection(results_ranking)))\n",
    "    \n",
    "    query_precision = tp/len(results_ranking)\n",
    "\n",
    "    r_precisions.append(query_precision)\n",
    "\n",
    "  return r_precisions\n",
    "\n",
    "r_precisions = r_precisions(results_per_query, expected_results_per_query)\n",
    "\n",
    "r_precisions_df = pd.DataFrame(np.array([range(len(r_precisions)), r_precisions]).T, columns=[\"QueryIndex\", \"R-Precision\"])\n",
    "r_precisions_df.to_csv(evaluations_dir + \"r-precision-stemmer-1.csv\", sep=\";\", index=False)\n",
    "\n",
    "plt.bar(range(len(r_precisions)),r_precisions)\n",
    "plt.title(\"R-Precision\")\n",
    "plt.xlabel(\"Query\")\n",
    "plt.ylabel(\"R-Precision\")\n",
    "plt.show()"
   ]
  },
  {
   "cell_type": "markdown",
   "metadata": {},
   "source": [
    "### Mean Average Precision (MAP)"
   ]
  },
  {
   "cell_type": "code",
   "execution_count": 120,
   "metadata": {},
   "outputs": [
    {
     "name": "stdout",
     "output_type": "stream",
     "text": [
      "Mean Average Precision (MAP): 17.48%\n"
     ]
    }
   ],
   "source": [
    "def get_ks(query_results, query_relevant_documents):\n",
    "  ks = []\n",
    "  for k, query_result in enumerate(query_results):\n",
    "    if query_result in query_relevant_documents:\n",
    "      ks.append(k)\n",
    "\n",
    "  return ks\n",
    "\n",
    "def mean_average_precision(results_per_query, expected_results_per_query):\n",
    "  average_queries_precisions = []\n",
    "\n",
    "  for query_index in range(len(results_per_query)):\n",
    "    query_relevant_documents = [result[0] for result in expected_results_per_query[query_index]]\n",
    "    query_results = results_per_query[query_index]\n",
    "    query_precisions_at_k = []\n",
    "\n",
    "    ks = get_ks(query_results, query_relevant_documents)\n",
    "    for k in ks:\n",
    "      results_ranking = query_results[:(k+1)]\n",
    "      tp = len(list(set(query_relevant_documents).intersection(results_ranking)))\n",
    "      query_precision_at_k = tp/len(results_ranking)\n",
    "\n",
    "      query_precisions_at_k.append(query_precision_at_k)\n",
    "\n",
    "    average_queries_precisions.append(np.mean(np.array(query_precisions_at_k)))\n",
    "\n",
    "  mean_average_precision = np.mean(np.array(average_queries_precisions))\n",
    "\n",
    "  return mean_average_precision\n",
    "\n",
    "mean_average_precision_map = mean_average_precision(results_per_query, expected_results_per_query)\n",
    "\n",
    "print(f\"Mean Average Precision (MAP): {round(mean_average_precision_map * 100, 2)}%\")"
   ]
  },
  {
   "cell_type": "markdown",
   "metadata": {},
   "source": [
    "### Mean Reciprocal Rank (MRR)"
   ]
  },
  {
   "cell_type": "code",
   "execution_count": 121,
   "metadata": {},
   "outputs": [
    {
     "name": "stdout",
     "output_type": "stream",
     "text": [
      "Mean Reciprocal Rank (MRR): 69.78%\n"
     ]
    }
   ],
   "source": [
    "def get_query_reciprocal_rank(query_results, query_relevant_documents):\n",
    "  k = 10\n",
    "  reciprocal_rank = 0\n",
    "\n",
    "  for i, query_result in enumerate(query_results[:k]):\n",
    "    if query_result in query_relevant_documents:\n",
    "      reciprocal_rank = 1/(i + 1)\n",
    "      break\n",
    "\n",
    "  return reciprocal_rank\n",
    "\n",
    "def mean_reciprocal_rank(results_per_query, expected_results_per_query):\n",
    "  queries_reciprocal_ranks = []\n",
    "\n",
    "  for query_index in range(len(results_per_query)):\n",
    "    query_relevant_documents = [result[0] for result in expected_results_per_query[query_index]]\n",
    "    query_results = results_per_query[query_index]\n",
    "\n",
    "    query_reciprocal_rank = get_query_reciprocal_rank(query_results, query_relevant_documents)\n",
    "    queries_reciprocal_ranks.append(query_reciprocal_rank)\n",
    "\n",
    "  mean_reciprocal_rank = np.mean(queries_reciprocal_ranks)\n",
    "\n",
    "  return mean_reciprocal_rank\n",
    "\n",
    "mean_reciprocal_rank_mrr = mean_reciprocal_rank(results_per_query, expected_results_per_query)\n",
    "\n",
    "print(f\"Mean Reciprocal Rank (MRR): {round(mean_reciprocal_rank_mrr * 100, 2)}%\")"
   ]
  },
  {
   "cell_type": "markdown",
   "metadata": {},
   "source": [
    "### Mean Discounted Cumulative Gain (DCG)"
   ]
  },
  {
   "cell_type": "code",
   "execution_count": 122,
   "metadata": {},
   "outputs": [
    {
     "name": "stdout",
     "output_type": "stream",
     "text": [
      "Mean Discounted Cumulative Gain (DCG): 8.97\n"
     ]
    }
   ],
   "source": [
    "def get_query_discounted_cumulative_gain(query_results, query_relevant_documents):\n",
    "  k = 10\n",
    "  dcg = 0\n",
    "  relevance_scores = [result[1] for result in query_relevant_documents]\n",
    "  relevant_documents = [result[0] for result in query_relevant_documents]\n",
    "\n",
    "  for i, query_result in enumerate(query_results[:k]):\n",
    "    for j, relevant_document in enumerate(relevant_documents):\n",
    "      if query_result == relevant_document:\n",
    "        relevance_score = relevance_scores[j]\n",
    "\n",
    "        if i == 0:\n",
    "          dcg += relevance_score\n",
    "        else:\n",
    "          dcg += relevance_score/np.log2(i+1)\n",
    "\n",
    "        break\n",
    "\n",
    "  return dcg\n",
    "\n",
    "def mean_discounted_cumulative_gain(results_per_query, expected_results_per_query):\n",
    "  discounted_cumulative_gains = []\n",
    "\n",
    "  for query_index in range(len(results_per_query)):\n",
    "    query_relevant_documents = expected_results_per_query[query_index]\n",
    "    query_results = results_per_query[query_index]\n",
    "\n",
    "    query_discounted_cumulative_gain = get_query_discounted_cumulative_gain(query_results, query_relevant_documents)\n",
    "    discounted_cumulative_gains.append(query_discounted_cumulative_gain)\n",
    "\n",
    "  mean_discounted_cumulative_gain = np.mean(discounted_cumulative_gains)\n",
    "\n",
    "  return mean_discounted_cumulative_gain\n",
    "\n",
    "mean_discounted_cumulative_gain_dcg = mean_discounted_cumulative_gain(results_per_query, expected_results_per_query)\n",
    "\n",
    "print(f\"Mean Discounted Cumulative Gain (DCG): {round(mean_discounted_cumulative_gain_dcg, 2)}\")"
   ]
  },
  {
   "cell_type": "markdown",
   "metadata": {},
   "source": [
    "### Mean Normalized Discounted Cumulative Gain (NDCG)"
   ]
  },
  {
   "cell_type": "code",
   "execution_count": 123,
   "metadata": {},
   "outputs": [
    {
     "name": "stdout",
     "output_type": "stream",
     "text": [
      "Mean Normalized Discounted Cumulative Gain (NDCG): 0.68\n"
     ]
    }
   ],
   "source": [
    "def get_query_max_discounted_cumulative_gain(query_results, query_relevant_documents):\n",
    "  k = 10\n",
    "  max_dcg = 0\n",
    "  relevance_scores = [result[1] for result in query_relevant_documents]\n",
    "  relevant_documents = [result[0] for result in query_relevant_documents]\n",
    "  query_results_relevances = []\n",
    "\n",
    "  for i, query_result in enumerate(query_results[:k]):\n",
    "    query_results_relevance = 0\n",
    "    for j, relevant_document in enumerate(relevant_documents):\n",
    "      if query_result == relevant_document:\n",
    "        query_results_relevance = relevance_scores[j]\n",
    "        break\n",
    "    query_results_relevances.append(query_results_relevance)\n",
    "    \n",
    "  sorted_query_results_relevances = np.sort(query_results_relevances)[::-1]\n",
    "  for i, query_result_relevance in enumerate(sorted_query_results_relevances):\n",
    "    if i == 0:\n",
    "      max_dcg += query_result_relevance\n",
    "    else:\n",
    "      max_dcg += query_result_relevance/np.log2(i+1)\n",
    "\n",
    "  return max_dcg\n",
    "\n",
    "def get_query_discounted_cumulative_gain(query_results, query_relevant_documents):\n",
    "  k = 10\n",
    "  dcg = 0\n",
    "  relevance_scores = [result[1] for result in query_relevant_documents]\n",
    "  relevant_documents = [result[0] for result in query_relevant_documents]\n",
    "\n",
    "  for i, query_result in enumerate(query_results[:k]):\n",
    "    for j, relevant_document in enumerate(relevant_documents):\n",
    "      if query_result == relevant_document:\n",
    "        relevance_score = relevance_scores[j]\n",
    "\n",
    "        if i == 0:\n",
    "          dcg += relevance_score\n",
    "        else:\n",
    "          dcg += relevance_score/np.log2(i+1)\n",
    "\n",
    "        break\n",
    "\n",
    "  return dcg\n",
    "\n",
    "def mean_normalized_discounted_cumulative_gain(results_per_query, expected_results_per_query):\n",
    "  normalized_discounted_cumulative_gains = []\n",
    "\n",
    "  for query_index in range(len(results_per_query)):\n",
    "    query_relevant_documents = expected_results_per_query[query_index]\n",
    "    query_results = results_per_query[query_index]\n",
    "\n",
    "    query_max_discounted_cumulative_gain = get_query_max_discounted_cumulative_gain(query_results, query_relevant_documents)\n",
    "    query_discounted_cumulative_gain = get_query_discounted_cumulative_gain(query_results, query_relevant_documents)\n",
    "    \n",
    "    if query_max_discounted_cumulative_gain > 0:\n",
    "      normalized_discounted_cumulative_gains.append(query_discounted_cumulative_gain/query_max_discounted_cumulative_gain)\n",
    "    else:\n",
    "      normalized_discounted_cumulative_gains.append(0)\n",
    "\n",
    "  mean_normalized_discounted_cumulative_gain = np.mean(normalized_discounted_cumulative_gains)\n",
    "\n",
    "  return mean_normalized_discounted_cumulative_gain\n",
    "\n",
    "mean_normalized_discounted_cumulative_gain_ndcg = mean_normalized_discounted_cumulative_gain(results_per_query, expected_results_per_query)\n",
    "\n",
    "print(f\"Mean Normalized Discounted Cumulative Gain (NDCG): {round(mean_normalized_discounted_cumulative_gain_ndcg, 2)}\")"
   ]
  },
  {
   "cell_type": "code",
   "execution_count": null,
   "metadata": {},
   "outputs": [],
   "source": []
  }
 ],
 "metadata": {
  "interpreter": {
   "hash": "31f2aee4e71d21fbe5cf8b01ff0e069b9275f58929596ceb00d14d90e3e16cd6"
  },
  "kernelspec": {
   "display_name": "Python 3.8.9 64-bit",
   "language": "python",
   "name": "python3"
  },
  "language_info": {
   "codemirror_mode": {
    "name": "ipython",
    "version": 3
   },
   "file_extension": ".py",
   "mimetype": "text/x-python",
   "name": "python",
   "nbconvert_exporter": "python",
   "pygments_lexer": "ipython3",
   "version": "3.8.9"
  },
  "orig_nbformat": 4
 },
 "nbformat": 4,
 "nbformat_minor": 2
}
